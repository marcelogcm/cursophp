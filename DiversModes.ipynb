{
  "nbformat": 4,
  "nbformat_minor": 0,
  "metadata": {
    "colab": {
      "provenance": [],
      "authorship_tag": "ABX9TyOJVbcCV7YqOv4wuuaujI7S",
      "include_colab_link": true
    },
    "kernelspec": {
      "name": "python3",
      "display_name": "Python 3"
    },
    "language_info": {
      "name": "python"
    }
  },
  "cells": [
    {
      "cell_type": "markdown",
      "metadata": {
        "id": "view-in-github",
        "colab_type": "text"
      },
      "source": [
        "<a href=\"https://colab.research.google.com/github/marcelogcm/cursophp/blob/master/DiversModes.ipynb\" target=\"_parent\"><img src=\"https://colab.research.google.com/assets/colab-badge.svg\" alt=\"Open In Colab\"/></a>"
      ]
    },
    {
      "cell_type": "code",
      "execution_count": 1,
      "metadata": {
        "colab": {
          "base_uri": "https://localhost:8080/"
        },
        "id": "awyWXz7nBZOh",
        "outputId": "71d9ad9c-c8e2-4437-afe4-1571d229482e"
      },
      "outputs": [
        {
          "output_type": "stream",
          "name": "stdout",
          "text": [
            "Olá Mundo!!!\n"
          ]
        }
      ],
      "source": [
        "print(\"Olá Mundo!!!\")\n"
      ]
    },
    {
      "cell_type": "code",
      "source": [
        "print(12345)\n",
        "print('valor',12345)\n",
        "print('valor = {}'.format(12345))\n",
        "print(f'valor = {12345}')\n",
        "print(\"valor\",12345)\n",
        "print(\"valor = {}\".format(12345))\n",
        "print(f\"valor = {12345}\")\n",
        "\n"
      ],
      "metadata": {
        "colab": {
          "base_uri": "https://localhost:8080/"
        },
        "id": "B2XBD-SbEkge",
        "outputId": "f7b128d2-2425-473a-b32b-57878712fcdb"
      },
      "execution_count": 12,
      "outputs": [
        {
          "output_type": "stream",
          "name": "stdout",
          "text": [
            "12345\n",
            "valor 12345\n",
            "valor = 12345\n",
            "valor = 12345\n",
            "valor 12345\n",
            "valor = 12345\n",
            "valor = 12345\n"
          ]
        }
      ]
    }
  ]
}